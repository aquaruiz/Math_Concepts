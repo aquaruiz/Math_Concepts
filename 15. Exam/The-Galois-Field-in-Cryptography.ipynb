{
 "cells": [
  {
   "cell_type": "code",
   "execution_count": 1,
   "metadata": {},
   "outputs": [],
   "source": [
    "%matplotlib inline"
   ]
  },
  {
   "cell_type": "code",
   "execution_count": 2,
   "metadata": {},
   "outputs": [],
   "source": [
    "import numpy as np\n",
    "import numpy.polynomial.polynomial as p\n",
    "import matplotlib.pyplot as plt\n",
    "import time\n",
    "import random\n",
    "from random import choice\n",
    "import string"
   ]
  },
  {
   "cell_type": "markdown",
   "metadata": {},
   "source": [
    "# The Galois Field in Cryptography"
   ]
  },
  {
   "cell_type": "markdown",
   "metadata": {},
   "source": [
    "### Abstract\n",
    "The following survey represents the finite fields theory and finite field arithmetic algorithms. The reader could find an explanation on how to encrypt messages. Also the common encryption and decryption systems are briefly shown, such as symmetrical encryption. There are some code implementation of cryptographic algorithms. "
   ]
  },
  {
   "cell_type": "markdown",
   "metadata": {},
   "source": [
    "### Intro\n",
    "Encryption makes the modern world go round. Every time you make a mobile phone call, buy something with a credit card in a shop or on the web, or even get cash from an ATM, encryption bestows upon that transaction the confidentiality and security to make it possible.\n",
    "\n",
    "There are many, many ways to perform that transformation, some straightforward and some very complex. Most involve swapping letters for numbers and use maths to do the transformation. However, no matter which method is used the resulting scrambled data stream should give no hints about how it was encrypted."
   ]
  },
  {
   "cell_type": "markdown",
   "metadata": {},
   "source": [
    "#### Field Definition"
   ]
  },
  {
   "cell_type": "markdown",
   "metadata": {},
   "source": [
    "![Algebraic field](Number-systems.png \"Algebraic fields\")\n",
    "In mathematics, a field is a set on which addition, subtraction, multiplication, and division are defined, and behave as when they are applied to rational and real numbers. A field is a fundamental algebraic structure, which is widely used in algebra, number theory and many other areas of mathematics.\n",
    "\n",
    "Informally, a field is a set, along with two operations defined on that set: an addition operation written as $a + b$, and a multiplication operation written as $a ⋅ b$, both of which behave similarly as they behave for rational numbers and real numbers, including the existence of an additive inverse $−a$ for all elements $a$, and of $a$ multiplicative inverse $b^{−1}$ for every nonzero element $b$. This allows us to consider also the so-called inverse operations of subtraction $a − b$, and division $\\frac{a}{b}$, via defining:\n",
    "\n",
    "$$a − b = a + (−b),$$\n",
    "$$ \\frac {a}{b} = a · b^{−1}.$$\n",
    "\n",
    "Formally, a field is a set $F$ together with two operations called addition and multiplication. An operation is a mapping that associates an element of the set to every pair of its elements. The result of the addition of $a$ and $b$ is called the sum of $a$ and $b$ and denoted $a + b$. Similarly, the result of the multiplication of $a$ and $b$ is called the product of $a$ and $b$, and denoted $ab$ or $a⋅b$. Inside the field there is always one neutral element such as:\n",
    "* by addition $a + 0 = a$\n",
    "* by multiplication $a · 1 = a$\n",
    "\n",
    "Field Examples:\n",
    "* $\\mathbb{Q}$ - field of rational numbers \n",
    "* $\\mathbb{R}$ - field of real numbers \n",
    "* $\\mathbb{C}$ - field of complex numbers"
   ]
  },
  {
   "cell_type": "markdown",
   "metadata": {},
   "source": [
    "#### What is GF(2)? Why is it an algebraic field?"
   ]
  },
  {
   "cell_type": "markdown",
   "metadata": {},
   "source": [
    "![Évariste Galois portrait](Évariste.jpg \"Évariste Galois age 20\")\n",
    "The Galois field (so-named in honot of **Évariste Galois**) is a  a finite field that contains a finite number of elements.  Within the field, addition, subtraction, multiplication and invertion are defined.  The sum and the product belong to the field. The quantity of elements ($m$) in the field is called order or cardinality of field. \n",
    "\n",
    "A field with order $p^n$ exists only if is a prime power, for a positive integer $n$ and a prime integer $p$. $GF(p)$ is called the prime field of order $p$, and is the field of residue classes modulo $p$, where the $p$ elements are denoted $0, 1, ..., p-1$. $a=b$ in $GF(p)$ means the same as $a=b$ mod $p$. Finite fields are therefore denoted $GF(p^n)$, instead of $GF(k)$, where $k=p^n$, for clarity.\n",
    "\n",
    "For instance, the finite field $GF(2)$ stays for a Galois Field of $2$ elements and consists of elements $0$ and $1$ ($GF(2) = \\{0,1\\}$) which satisfy the following addition and multiplication tables. Arithmetics is simply done by modulo 2.\n",
    "\n",
    "|+|0|1|\n",
    "|-|-|-|\n",
    "|**0**|0|1|\n",
    "|**1**|1|0|\n",
    "\n",
    "\n",
    "|*|0|1|\n",
    "|-|-|-|\n",
    "|**0**|0|0|\n",
    "|**1**|0|1|\n",
    "\n"
   ]
  },
  {
   "cell_type": "code",
   "execution_count": 3,
   "metadata": {},
   "outputs": [],
   "source": [
    "def calc_GF(num1, num2, operation, gf = 2):\n",
    "    \"\"\"\n",
    "    Implementation of calculation operations within any Galois field between two numbers\n",
    "    \"\"\"\n",
    "    result = -1\n",
    "    \n",
    "    if operation == \"+\":\n",
    "        result = (num1 + num2)% gf\n",
    "    elif operation == \"-\":\n",
    "        result = (num1 - num2)% gf\n",
    "    elif operation == \"*\":\n",
    "        result = (num1 * num2)% gf\n",
    "    elif operation == \"/\":\n",
    "        result = (num1 / num2)% gf\n",
    "        \n",
    "    if result == -1:\n",
    "        return \"Error!\"\n",
    "    else:\n",
    "        return result"
   ]
  },
  {
   "cell_type": "code",
   "execution_count": 4,
   "metadata": {},
   "outputs": [
    {
     "name": "stdout",
     "output_type": "stream",
     "text": [
      "0\n",
      "1\n",
      "8\n"
     ]
    }
   ],
   "source": [
    "print(calc_GF(1, 1, \"+\"))\n",
    "print(calc_GF(1, 1, \"*\"))\n",
    "print(calc_GF(100, 2, \"-\", 9))"
   ]
  },
  {
   "cell_type": "markdown",
   "metadata": {},
   "source": [
    "#### Extension Fields $GF(p^n)$\n",
    "When $n>1$, $GF(p^n)$ can be represented as the field of equivalence classes of polynomials or an extention field whose coefficients belong to $GF(p)$. Any irreducible polynomial of degree $n$ yields the same field up to an isomorphism. For example, for $GF(2^3)$, the modulus can be taken as $x^3+x^2+1$ or $x^3+x+1$. Using the modulus $x^3+x+1$, the elements of $GF(2^3)$--written $0$, $x^0$, $x^1$, $\\cdots$ can be represented as polynomials with degree less than 3. For instance,\n",
    "$$x^3=-x-1=x+1$$\t\n",
    "$$x^4=x(x^3)=x(x+1)=x^2+x$$\n",
    "\n",
    "$$x^5=x(x^2+x)=x^3+x^2=x^2-x-1=x^2+x+1$$\t\n",
    "$$x^6=x(x^2+x+1)=x^3+x^2+x=x^2-1=x^2+1$$\t\n",
    "$$x^7=x(x^2+1)=x^3+x=-1=1=x^0$$\n",
    "\n",
    "The following table contains several different representations of the elements of a finite field. The columns are the power, polynomial representation, triples of polynomial representation coefficients (the vector representation), and the binary integer corresponding to the vector representation.\n",
    "\n",
    "|power|polynomial|vector|regular|\n",
    "|:-:|:-:|:-:|:-:|\n",
    "|0|0|(000)|0|\n",
    "|$x^0$|$1$|(001)|1|\n",
    "|$x^1$|$x$|(010)|2|\n",
    "|$x^2$|$x^2$|(100)|\t4|\n",
    "|$x^3$|$x+1$|(011)|\t3|\n",
    "|$x^4$|$x^2+x$|(110)|6|\n",
    "|$x^5$|$x^2+x+1$|(111)|\t7|\n",
    "|$x^6$|$x^2+1$|(101)|5|\n",
    "\n",
    "The set of polynomials in the second column is closed under addition and multiplication modulo $x^3+x+1$, and these operations on the set satisfy the axioms of finite field. This particular finite field is said to be an extension field of degree $3$ of $GF(2)$, written $GF(2^3)$, and the field $GF(2)$ is called the base field of $GF(2^3)$. If an irreducible polynomial generates all elements in this way, it is called a primitive polynomial. For any prime or prime power $q$ and any positive integer $n$, there exists a primitive irreducible polynomial of degree $n$ over $GF(q)$.\n",
    "\n",
    "Generally, in abstract algebra, a field extension $F$ / $E$ is algebraic if every element $f$ of the bigger field $F$ is the zero of a polynomial with coefficients $e_0, \\dots, e_m$ in $E$:\n",
    "$$p(f) = e_{m}f^m + e_{m−1}f^{m−1} + \\dots + e_{1}f + e_0 = 0.$$\n",
    "It is a fact that every field extension of finite degree is algebraic (proof: for $x$ in $F$ simply consider $1, x, x^2, x^3, \\dots$, we get a linear dependence, i.e. a polynomial that $x$ is a root of!) because of the finite degree. In particular this applies to algebraic number fields, so any element $f$ of an algebraic number field $F$ can be written as a zero of a polynomial with rational coefficients. Therefore, elements of $F$ are also referred to as algebraic numbers. Given a polynomial $p$ such that $p(f) = 0$, it can be arranged such that the leading coefficient $e_m$ is one, by dividing all coefficients by it, if necessary. A polynomial with this property is known as a monic polynomial. In general it will have rational coefficients. If, however, its coefficients are actually all integers, $f$ is called an algebraic integer. Any (usual) integer $z ∈ \\mathbb{Z}$ is an algebraic integer, as it is the zero of the linear monic polynomial:\n",
    "$$p(t) = t − z.$$\n"
   ]
  },
  {
   "cell_type": "markdown",
   "metadata": {},
   "source": [
    "#### What is perfect secrecy? How does it relate to the participants in the conversation, and to the outside eavesdropper?\n",
    "\n",
    "After perfect secrecy encryption, each of the participants in the conversation recieves an encrypted message. They have enchaged a key space positions to decrypted it in advance and have choosen a star point. An outside eavesdropper cannot encrypt the message properly without this key set. The size of the message space equals the size of the key space equals the size of the cipher text space.\n",
    "\n",
    "**Shannon Theorem:** For a perfect encryption scheme, the number of keys is at least the size of the message space (number of messages that have a non-zero probability).\n",
    "\n",
    "**Proof:** Consider ciphertext $c$. $c$ must be a possible encryption of any plaintext $m$. But, for this we need a different key per message $m$. $m≠m′⟺c≠c′$.\n",
    "\n",
    "A cipher $(E, D)$ defined over $(K, M, C)$ has perfect secrecy if for every two messages $m_1$ and $m_2$ (of the same size) belonging to $M$ and for every $c$ belonging to $C$, there is an equality:\n",
    "$$P[E(k, m_1)=c] = P[E(k, m_2)=c]$$\n",
    "\n",
    "where:\n",
    "the key $k$ belongs to a set $K$ of all possible keys,\n",
    "$M$ is a set of all possible messages,\n",
    "$C$ is a set of all possible ciphertexts.\n",
    "Given a ciphertexts it is not possible to distinguish between two possible sent messages\n",
    "Given a ciphertexts it is not possible to find out anything about sent text\n",
    "It is not possible to break the cipher using ciphertext-only attacks\n",
    "$$|K| >= |M|$$\n",
    "\n"
   ]
  },
  {
   "cell_type": "markdown",
   "metadata": {},
   "source": [
    "#### What is symmetrical encryption?\n",
    "\n",
    "Symmetric encryption is a form of computerized cryptography using a singular encryption key to guise an electronic message. Its data conversion uses a mathematical algorithm along with a secret key, which results in the inability to make sense out of a message. Symmetric encrpytion is a two-way algorithm because the mathematical algorithm is reversed when decrypting the message along with using the same secret key.\n",
    "\n",
    "Symmetric encryption is also known as private-key encryption and secure-key encryption.\n",
    "Symmetric key encryption algorithms include block ciphers and stream ciphers.\n",
    "Both block ciphers and stream ciphers are widely used today. A block cipher has a\n",
    "fixed message input length, called block size, and it can be viewed as an enormous\n",
    "and fixed (for each key) secret substitution table that transforms a block of\n",
    "plaintext bits into ciphertext. A stream cipher has a variable message input\n",
    "length, and it can be viewed as a small but changing secret substitution table that\n",
    "transforms plaintext bits at different positions with different substitution tables\n",
    "(the XOR operation between plaintext and keystream can be viewed as one-bit\n",
    "substitution determined by a keystream bit). There is some connection between\n",
    "block ciphers and stream ciphers. A block cipher in counter (CTR) mode \n",
    "or output feedback (OFB) mode is an inefficient synchronous stream cipher;\n",
    "and a block cipher in cipher feedback (CFB) mode is an asynchronous stream\n",
    "cipher.\n",
    "For some applications, a block cipher is more convenient to use than a stream\n",
    "cipher.\n",
    "\n",
    "Conversely, stream algorithms are not held in the encryption system memory, but arrive in data stream algorithms. This type of algorithm is considered somewhat more secure, since a disk or system is not holding on to the data without encryption in the memory components."
   ]
  },
  {
   "cell_type": "code",
   "execution_count": 5,
   "metadata": {},
   "outputs": [],
   "source": [
    "def encode(text):\n",
    "    \"\"\"\n",
    "    Returns the run-length encoded version of the text\n",
    "    (numbers after symbols, length = 1 is skipped)\n",
    "    \"\"\"\n",
    "    output = \"\"\n",
    "    output = text[0]\n",
    "    counter = 1\n",
    "    \n",
    "    for i in range(1, len(text)):\n",
    "        if text[i] != text[i - 1]:\n",
    "            if counter > 1:\n",
    "                output += str(counter)\n",
    "            output += text[i]  \n",
    "            counter = 1\n",
    "        else:\n",
    "            counter += 1\n",
    "    if counter > 1:\n",
    "            output += str(counter)          \n",
    "            \n",
    "    #print (output)\n",
    "    return output\n",
    "\n",
    "def decode(text):\n",
    "    \"\"\"\n",
    "    Decodes the text using run-length encoding\n",
    "    \"\"\"\n",
    "    output = \"\"\n",
    "    counter = 1\n",
    "    currentLetter = text[0]\n",
    "    for i in range(1, len(text)):\n",
    "       \n",
    "        if text[i].isdigit():\n",
    "            if text[i - 1].isdigit():\n",
    "                counter = counter * 10 + int(text[i])\n",
    "            else:\n",
    "                counter = int(text[i])\n",
    "        else:\n",
    "            output += currentLetter * counter\n",
    "            currentLetter = text[i]\n",
    "            counter = 1\n",
    "            \n",
    "    output += currentLetter * counter\n",
    "    currentLetter = text[i]      \n",
    "    return output"
   ]
  },
  {
   "cell_type": "code",
   "execution_count": 6,
   "metadata": {},
   "outputs": [
    {
     "name": "stdout",
     "output_type": "stream",
     "text": [
      "A20BC3DE4\n",
      "AAAAAAAAAAAAAAAAAAAABCCCDEEEE\n"
     ]
    }
   ],
   "source": [
    "print(encode(\"AAAAAAAAAAAAAAAAAAAABCCCDEEEE\"))\n",
    "print(decode(\"A20BC3DE4\"))"
   ]
  },
  {
   "cell_type": "markdown",
   "metadata": {},
   "source": [
    "#### How to encrypt one-bit messages?\n",
    "\n",
    "By encrypting an 1 bit message, the minimum size of the encrypted message is much larger than a single bit. As well, it is well-known that encrypting each bit of a plaintext string independently is not secure — the resulting scheme is malleable.\n",
    "The Block ciphers are more secure because they encrypte blocks of 64 bits or so at a time, but stream ciphers encrypt 1 bit at a time.\n",
    "\n",
    "A stream cipher is a method of encrypting text (to produce ciphertext) in which a cryptographic key and algorithm are applied to each binary digit in a data stream, one bit at a time. This method is not much used in modern cryptography. \n",
    "\n",
    "A stream cipher consists of a state update function and an output function. The state of a stream cipher is updated continuously during encryption so that bits at different positions in a message are encrypted with different states. The output function generates keystream bits from the state and performs encryption or decryption. If the initial state of a stream cipher is not the same as the key, key setup is required to generate the initial state from the key. If a key is used with different initialization vectors (IVs) to generate keystreams, key/IV setup (resynchronization) is required to generate the initial state from the key and IV. \n",
    "\n",
    "The initialization vector (IV) is very important in synchronous stream ciphers. It is disastrous if the same key is used with two identical IVs. For a general purpose stream cipher, the IV size should be sufficiently large. The IV may be generated randomly, or be generated from a counter (the counter based IV is inconvenient to use in some applications), so we cannot simply assume that IV can only be generated from a counter. The IV size should be sufficient large to prevent the collision of IVs if IVs are generated randomly. \n",
    "\n",
    "Stream ciphers can be classified according to the state update. If the state is independent of the message, the cipher is called a synchronous stream cipher since it requires synchronization between the sender and receiver. If the state depends only on $N$ previous ciphertext bits, the cipher is called asynchronous or self-synchronizing stream cipher. The basic requirement on the state update is that the states should be generated with a sufficiently large period. \n",
    "\n",
    "There are several advantages to using this approach over block ciphers, namely:\n",
    "\n",
    "* The size of the key can be much smaller than the size of the message to be encrypted.\n",
    "* The encryption operation is very fast; usually stream ciphers are much faster than block ciphers.\n",
    "* There is no error propagation, that is, if parts of the cipher text are corrupted during the transmission, it does not affect other uncorrupted parts.\n",
    "\n",
    "![Stream Cipher](keystream.png \"Stream Cipher concept\")"
   ]
  },
  {
   "cell_type": "code",
   "execution_count": 7,
   "metadata": {},
   "outputs": [
    {
     "name": "stdout",
     "output_type": "stream",
     "text": [
      "Original Message: Mamma is here!\n",
      "Ciphered message: Lalm` hs!hdrd!\n",
      "Decrypted message: Mamma is here!\n"
     ]
    }
   ],
   "source": [
    "# Stream cipher example (а try of)  Ron Rivest's Cipher #4\n",
    "\n",
    "def lcg(key):  # A psuedo-random number generator to take key and produce consistent stream of psuedo-random bytes\n",
    "    X = key\n",
    "    m = 2\n",
    "    a = 1103519545\n",
    "    c = 54621\n",
    "    while True:\n",
    "        X = (a * X + c) % m\n",
    "        yield int(X)\n",
    "\n",
    "def enc(msg, key):   # encryption\n",
    "    rand = lcg(key)\n",
    "    return \"\".join(chr(ord(c) ^ next(rand)) for c in msg)\n",
    "\n",
    "dec = enc   # decryption\n",
    "\n",
    "key = 1001100\n",
    "msg = \"Mamma is here!\"\n",
    "ciphertext = enc(msg, key)\n",
    "plaintext = dec(ciphertext, key)\n",
    "\n",
    "print(\"Original Message:\", msg)\n",
    "print(\"Ciphered message:\", ciphertext)\n",
    "print(\"Decrypted message:\", plaintext)"
   ]
  },
  {
   "cell_type": "markdown",
   "metadata": {},
   "source": [
    "#### How to extend the one-bit encryption system to many bits?\n",
    "\n",
    "If you want to encrypt more than 1 bit message you should use block cipher. The modes of operation of block ciphers are configuration methods that allow those ciphers to work with large data streams, without the risk of compromising the provided security.\n",
    "\n",
    "A block cipher is a versatile algorithm which implements a key-dependent permutation of values which are sequences of a fixed number of bits (called \"blocks\"). Usually a block contains more than 1 bit. The method can be used for various roles in many kinds of cryptographic protocols. One such role is bulk encryption of long streams of data; to achieve such a thing, the block cipher must be used with an appropriate mode of operation (aka \"chaining mode\"), the traditional one being CBC, and the trendy newer mode being CTR."
   ]
  },
  {
   "cell_type": "markdown",
   "metadata": {},
   "source": [
    "#### Symmetric Encryption in simple words\n",
    "\n",
    "![Symmetric Encryption](dec-enc.gif \"Symmetric Encryption Flow\")\n",
    "\n",
    "\n",
    "1. Plaintext (P): The original message or data. The plaintext is an input to the encryption algorithm.\n",
    "2. Encryption Algorithm (E): This algorithm preforms various substitutions and transpositions on the plaintext and produces the ciphertext.\n",
    "3. Ciphertext (C): This is the output produced by the encryption algorithm. The ciphertext is a scrambled message and it appears as a random stream of data.\n",
    "4. Encryption Key (K): Encryption key or secret key is a value that’s independent of the plaintext. Encryption key is an input to the encryption algorithm. The encryption algorithm will produces a different with different keys.\n",
    "5. Decryption Algorithm (D): This algorithm is a reverse of the the encryption algorithm. It takes ciphertext and the encryption key as input and produces the plaintext as output.\n",
    "\n",
    "_How It Works:_\n",
    "\n",
    "Alice wants to send an encrypted message to Bob and both have the secret key, which is generated by the encryption algorithm or by a third-party software. This process will work as follows:\n",
    "1. Encryption algorithm E (on Alice’s computer) takes the plaintext P and the secret key K. It generates a ciphertext C.\n",
    "$$C = E(P,k)$$\n",
    "2. The ciphertext C will be transferred via the internet.\n",
    "3. Decryption algorithm D (on Bob’s computer) takes the ciphertext and the secret key K (the same key) and regenerates the original plaintext P again.\n",
    "$$P = D(C,K)$$\n",
    "\n",
    "_Requirements:_\n",
    "* The encryption key is independent of the plaintext and the encryption algorithm.\n",
    "* The sender and receiver must have copies of the encryption key and they must secure that key.\n",
    "* No need to keep the encryption algorithm secure because it’s impractical to decrypt a ciphertext by only using the decryption algorithm. That’s the same for the encryption algorithm.\n",
    "* Key exchange must be done via a secured channel."
   ]
  },
  {
   "cell_type": "markdown",
   "metadata": {},
   "source": [
    "#### Why is the system decryptable? \n",
    "The conversion of encrypted data into its original form is called Decryption. When a system is encrypted once it could be decrypted but under certain conditions - а properly implemented decrypthion algoritхm and а beforehand-knowн key / password.\n",
    "Decryption decodes the encrypted information so that an authorized user can only decrypt the data because decryption requires a secret key or password. \n",
    "\n",
    "#### How do the participants decrypt the encrypted messages?\n",
    "The recipient of decryption receives a prompt or window in which a password can be entered to access the encrypted data. For decryption, the system extracts and converts the garbled data and transforms it into words and images that are easily understandable not only by a reader but also by a system. Decryption can be done manually or automatically. It may also be performed with a set of keys or passwords."
   ]
  },
  {
   "cell_type": "markdown",
   "metadata": {},
   "source": [
    "#### Why isn't the eavesdropper able to decrypt?\n",
    "Quality encryption always follows a fundamental rule: the actual procedure being used, the algorithm, doesn't need to be kept secret. But the key does. Even the sharpest hacker in the world won't unable to decrypt data as long as the key remains secret.\n",
    "\n",
    "Today's ciphers use either secret-key or public-key techniques. Secret-key ciphers can be used to protect critical/sensitive data. Because secret-key ciphers use a single key that users must share, this is also known as symmetric cryptography. \n",
    "\n",
    "Public-key ciphers  or asymmetric, use a pair of keys: the public key that gets shared with other people, and a corresponding private key that is kept secret by its single owner. Even if the eavesdropper gets the public key he can't duplicate the process and derive a shared key, since the eavesdroppers don't know the private keys. In that case the eavesdropper can't guess the message without knowing the private key."
   ]
  },
  {
   "cell_type": "markdown",
   "metadata": {},
   "source": [
    "#### What is a one-time pad? How does the one-time pad achieve perfect secrecy?\n",
    "\n",
    "The one-time pad (OTP) is the only cipher known to have perfect secrecy. OTP is a stream cipher with symmetric secret key and it allows very fast encryption and decryption. However, the secret key must be at least as long as the message, what makes it quite inconvenient to use while sending large electronic information.\n"
   ]
  },
  {
   "cell_type": "markdown",
   "metadata": {},
   "source": [
    "#### What happens if we try to use a one-time pad many times?\n",
    "\n",
    "Encrypting a message $m_1$ with a one-time-pad key $k$ gives encrypted message $Enc(m_1,k)=m1 \\oplus k$.\n",
    "Using the same $k$ to encrypt a different message $m_2$ gives encrypted second message $Enc(m_2,k) = m_2 \\oplus k$, but by performing $XOR$ operation of the two ciphertext the result is an exclusive disjunction between the two initial messages:\n",
    "\n",
    "$$(m_1\\oplus k)\\oplus (m_2\\oplus k)=m_1\\oplus m_2$$\n",
    "\n",
    "This means that the key is easily revealed by one initial message leakage:\n",
    "$$(m_2\\oplus k)\\oplus m_2=k$$\n",
    "\n"
   ]
  },
  {
   "cell_type": "markdown",
   "metadata": {},
   "source": [
    "#### What are some current enterprise-grade applications of encryption over GF(2)?\n",
    "The Advanced Encryption Standard (AES) is the most widely used symmetric cipher today. Rijndael (a.k.a AES) uses what is known as a galois field to perform a good deal of its mathematics. In more detail, Rijndael's galois field only allows an 8 bit number (a number from 0 to 255) to fit in it. All mathematical operations defined in the field result in an 8-bit number. \n",
    "\n",
    "The AES block cipher is also mandatory in several industry standards and is used in many commercial systems. Among the commercial standards that include AES are the Internet security standard IPsec, TLS, the Wi-Fi encryption standard IEEE 802.11i, the secure shell network protocol SSH (Secure Shell), Skype and numerous security products around the world. To date, there are no attacks better than brute-force known against AES. \n",
    "\n",
    "Within the call for proposals, the following requirements for all AES candidate submissions were mandatory:\n",
    "* block cipher with 128 bit block size\n",
    "* three key lengths must be supported: 128, 192 and 256 bit\n",
    "* security relative to other submitted algorithms\n",
    "* efficiency in software and hardware"
   ]
  },
  {
   "cell_type": "markdown",
   "metadata": {},
   "source": [
    "#### Implementation of cryptosystem based on GF(2). Show correctness on various test cases\n",
    "(a try)"
   ]
  },
  {
   "cell_type": "code",
   "execution_count": 8,
   "metadata": {},
   "outputs": [],
   "source": [
    "# text to number\n",
    "def encode(text):\n",
    "    result = 0\n",
    "    for c in text:\n",
    "        result = 256 * result + ord(c)\n",
    "    return result\n",
    "\n",
    "# number to text\n",
    "def decode(number):\n",
    "    number = int(number)\n",
    "    result = ''\n",
    "    while number != 0:\n",
    "        result = chr((number % 256)) + result\n",
    "        number //= 256\n",
    "    return result"
   ]
  },
  {
   "cell_type": "code",
   "execution_count": 9,
   "metadata": {},
   "outputs": [],
   "source": [
    "assert \"ba\" == decode(25185)\n",
    "assert encode(\"end is near\") == 122622815104125043470590322"
   ]
  },
  {
   "cell_type": "markdown",
   "metadata": {},
   "source": [
    "### References:\n",
    "1. [Wikipedia Article for Field in Maths](https://en.wikipedia.org/wiki/Field)\n",
    "2. [Wikipedia Article for Finite Fields](https://en.wikipedia.org/wiki/Finite_field)\n",
    "3. [Christoforus Juan Benvenuto - Galois Field in Cryptography](https://sites.math.washington.edu/~morrow/336_12/papers/juan.pdf)\n",
    "4. [Wikipedia Article for Algebraic Fields](https://en.wikipedia.org/wiki/Algebraic_number_field)\n",
    "5. [Wolfram Article for Finite Fields](http://mathworld.wolfram.com/FiniteField.html)\n",
    "6. [Understanding Cryptography, Paar, c. and Jan Pelzl](https://samsclass.info/141/slides/ch4.pdf)\n",
    "5. [Kham Academy video about Perfect Secrecy](https://www.khanacademy.org/computing/computer-science/cryptography/crypt/v/perfect-secrecy)\n",
    "7. [Cryptanalysis and Design of Stream Ciphers, Preneel, B.](https://www.esat.kuleuven.be/cosic/publications/thesis-167.pdf)\n",
    "8. [Reggit Article about RC4](https://www.reddit.com/r/dailyprogrammer/comments/3chvxy/20150708_challenge_222_intermediate_simple_stream/)\n",
    "9. [A Perfect Security Blog post](http://www.crypto-it.net/eng/theory/ciphers-security.html)\n",
    "10. [How Symmetric Encryption Works Article](https://www.cybrary.it/0p3n/symmetric-encryption/)\n",
    "11. [Stackexchange Article about Encrypting with the same one-time-pad](https://cs.stackexchange.com/questions/349/why-is-encrypting-with-the-same-one-time-pad-not-good?utm_medium=organic&utm_source=google_rich_qa&utm_campaign=google_rich_qa)"
   ]
  }
 ],
 "metadata": {
  "kernelspec": {
   "display_name": "Python 3",
   "language": "python",
   "name": "python3"
  },
  "language_info": {
   "codemirror_mode": {
    "name": "ipython",
    "version": 3
   },
   "file_extension": ".py",
   "mimetype": "text/x-python",
   "name": "python",
   "nbconvert_exporter": "python",
   "pygments_lexer": "ipython3",
   "version": "3.6.4"
  }
 },
 "nbformat": 4,
 "nbformat_minor": 2
}
