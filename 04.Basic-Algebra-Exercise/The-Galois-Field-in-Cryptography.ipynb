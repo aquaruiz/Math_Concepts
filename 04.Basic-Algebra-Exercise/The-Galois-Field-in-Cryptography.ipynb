{
 "cells": [
  {
   "cell_type": "markdown",
   "metadata": {},
   "source": [
    "### ** Problem 7. The Galois Field in Cryptography\n",
    "Research about the uses of the Galois field. What are its properties? How can it be used in cryptography? Write a simple cryptosystem based on the field.\n",
    "\n",
    "You can use the following questions to facilitate your research:\n",
    "* What is a field?\n",
    "* What is GF(2)? Why is it an algebraic field?\n",
    "* What is perfect secrecy? How does it relate to the participants in the conversation, and to the outside eavesdropper?\n",
    "* What is symmetrical encryption?\n",
    "* How to encrypt one-bit messages?\n",
    "* How to extend the one-bit encryption system to many buts?\n",
    "* Why is the system decryptable? How do the participants decrypt the encrypted messages?\n",
    "* Why isn't the eavesdropper able to decrypt?\n",
    "* What is a one-time pad?\n",
    "    * How does the one-time pad achieve perfect secrecy?\n",
    "* What happens if we try to use a one-time pad many times?\n",
    "    * Provide an example where you break the \"many-time pad\" security\n",
    "* What are some current enterprise-grade applications of encryption over GF(2)?\n",
    "* Implement a cryptosystem based on GF(2). Show correctness on various test cases"
   ]
  },
  {
   "cell_type": "code",
   "execution_count": null,
   "metadata": {},
   "outputs": [],
   "source": [
    "https://stackoverflow.com/questions/45442396/a-pure-python-way-to-calculate-the-multiplicative-inverse-in-gf28-using-pytho\n",
    "    \n",
    "def gf_degree(a) :\n",
    "  res = 0\n",
    "  a >>= 1\n",
    "  while (a != 0) :\n",
    "    a >>= 1;\n",
    "    res += 1;\n",
    "  return res\n",
    "\n",
    "def gf_invert(a, mod=0x1B) :\n",
    "  v = mod\n",
    "  g1 = 1\n",
    "  g2 = 0\n",
    "  j = gf_degree(a) - 8\n",
    "\n",
    "  while (a != 1) :\n",
    "    if (j < 0) :\n",
    "      a, v = v, a\n",
    "      g1, g2 = g2, g1\n",
    "      j = -j\n",
    "\n",
    "    a ^= v << j\n",
    "    g1 ^= g2 << j\n",
    "\n",
    "    a %= 256  # Emulating 8-bit overflow\n",
    "    g1 %= 256 # Emulating 8-bit overflow\n",
    "\n",
    "    j = gf_degree(a) - gf_degree(v)\n",
    "\n",
    "  return g1\n",
    "\n",
    "\n",
    "print(gf_invert(5))   # 82\n",
    "print(gf_invert(1))   #  1\n",
    "print(gf_invert(255)) # 28\n",
    "\n",
    "from libgf2 import GF2Element\n",
    "\n",
    "x = GF2Element(0x8, 0x11B)\n",
    "x.inv \n",
    "# find the inverse of x^3 in the quotient ring GF(2)[x]/p(x)\n",
    "# where p(x) = x^8 + x^4 + x^3 + x + 1 (0x11B in bit vector format)"
   ]
  }
 ],
 "metadata": {
  "kernelspec": {
   "display_name": "Python 3",
   "language": "python",
   "name": "python3"
  },
  "language_info": {
   "codemirror_mode": {
    "name": "ipython",
    "version": 3
   },
   "file_extension": ".py",
   "mimetype": "text/x-python",
   "name": "python",
   "nbconvert_exporter": "python",
   "pygments_lexer": "ipython3",
   "version": "3.6.4"
  }
 },
 "nbformat": 4,
 "nbformat_minor": 2
}
