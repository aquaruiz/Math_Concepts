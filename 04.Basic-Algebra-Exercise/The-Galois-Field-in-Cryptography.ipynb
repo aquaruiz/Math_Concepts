{
 "cells": [
  {
   "cell_type": "markdown",
   "metadata": {},
   "source": [
    "### ** Problem 7. The Galois Field in Cryptography\n",
    "Research about the uses of the Galois field. What are its properties? How can it be used in cryptography? Write a simple cryptosystem based on the field.\n",
    "\n",
    "You can use the following questions to facilitate your research:\n",
    "* What is a field?\n",
    "* What is GF(2)? Why is it an algebraic field?\n",
    "* What is perfect secrecy? How does it relate to the participants in the conversation, and to the outside eavesdropper?\n",
    "* What is symmetrical encryption?\n",
    "* How to encrypt one-bit messages?\n",
    "* How to extend the one-bit encryption system to many buts?\n",
    "* Why is the system decryptable? How do the participants decrypt the encrypted messages?\n",
    "* Why isn't the eavesdropper able to decrypt?\n",
    "* What is a one-time pad?\n",
    "    * How does the one-time pad achieve perfect secrecy?\n",
    "* What happens if we try to use a one-time pad many times?\n",
    "    * Provide an example where you break the \"many-time pad\" security\n",
    "* What are some current enterprise-grade applications of encryption over GF(2)?\n",
    "* Implement a cryptosystem based on GF(2). Show correctness on various test cases"
   ]
  },
  {
   "cell_type": "markdown",
   "metadata": {},
   "source": [
    "## What is a field?"
   ]
  },
  {
   "cell_type": "markdown",
   "metadata": {},
   "source": [
    "In mathematics, a field is a set on which addition, subtraction, multiplication, and division are defined, and behave as when they are applied to rational and real numbers. A field is a fundamental algebraic structure, which is widely used in algebra, number theory and many other areas of mathematics.\n",
    "\n",
    "Informally, a field is a set, along with two operations defined on that set: an addition operation written as $a + b$, and a multiplication operation written as $a ⋅ b$, both of which behave similarly as they behave for rational numbers and real numbers, including the existence of an additive inverse $−a$ for all elements $a$, and of $a$ multiplicative inverse $b^{−1}$ for every nonzero element $b$. This allows us to consider also the so-called inverse operations of subtraction $a − b$, and division $\\frac{a}{b}$, via defining:\n",
    "\n",
    "$$a − b = a + (−b),$$\n",
    "$$ \\frac {a}{b} = a · b^{−1}.$$\n",
    "\n",
    "Formally, a field is a set $F$ together with two operations called addition and multiplication. An operation is a mapping that associates an element of the set to every pair of its elements. The result of the addition of $a$ and $b$ is called the sum of $a$ and $b$ and denoted $a + b$. Similarly, the result of the multiplication of $a$ and $b$ is called the product of $a$ and $b$, and denoted $ab$ or $a⋅b$. \n",
    "\n",
    "Examples:\n",
    "* field of rational numbers\n",
    "* field of real numbers\n",
    "* field of complex numbers \n",
    "* many others"
   ]
  },
  {
   "cell_type": "markdown",
   "metadata": {},
   "source": [
    "## What is GF(2)? Why is it an algebraic field?"
   ]
  },
  {
   "cell_type": "markdown",
   "metadata": {},
   "source": [
    "GF(2) stays for a Galois Field of 2 elements. The Galois field is a  a finite field that contains a finite number of elements."
   ]
  },
  {
   "cell_type": "markdown",
   "metadata": {},
   "source": [
    "### References:\n",
    "1. [Wikipedia Article for Field in Maths](https://en.wikipedia.org/wiki/Field)\n",
    "2. [Wikipedia Article for Finite Fields](https://en.wikipedia.org/wiki/Finite_field)\n",
    "3. [Christoforus Juan Benvenuto - Galois Field in Cryptography](https://sites.math.washington.edu/~morrow/336_12/papers/juan.pdf)"
   ]
  }
 ],
 "metadata": {
  "kernelspec": {
   "display_name": "Python 3",
   "language": "python",
   "name": "python3"
  },
  "language_info": {
   "codemirror_mode": {
    "name": "ipython",
    "version": 3
   },
   "file_extension": ".py",
   "mimetype": "text/x-python",
   "name": "python",
   "nbconvert_exporter": "python",
   "pygments_lexer": "ipython3",
   "version": "3.6.4"
  }
 },
 "nbformat": 4,
 "nbformat_minor": 2
}
