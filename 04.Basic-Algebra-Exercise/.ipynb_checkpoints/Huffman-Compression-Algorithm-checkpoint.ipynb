{
 "cells": [
  {
   "cell_type": "markdown",
   "metadata": {},
   "source": [
    "### ** Problem 8. Huffman Compression Algorithm\n",
    "Examine and implement the **Huffman algorithm** for compressing data. It's based on information theory and probiability theory. Document your findings and provide your implementation.\n",
    "\n",
    "This algorithm is used for **lossless compression**: compressing data without loss of quality. You can use the following checklist:\n",
    "\n",
    "* What is the difference betwenn lossless and lossy compression?\n",
    "* When can we get away with lossy compression?\n",
    "* What is entropy?\n",
    "* How are Huffman trees constructed?\n",
    "    * Provide a few examples\n",
    "* How can we get back the uncompressed data from the Huffman tree?\n",
    "* How and where are Huffman trees stored?\n",
    "* Implement the algorithm. Add any other formulas / assumptions / etc. you might need.\n",
    "* Test the algorithm. A good meaure would be percentage compression: $$\\frac{\\text{compressed}}{\\text{uncompressed}} * 100\\%$$\n",
    "* How well does Huffman's algorithm perform compared to other compression algorithms (e.g. LZ77)?"
   ]
  }
 ],
 "metadata": {
  "kernelspec": {
   "display_name": "Python 3",
   "language": "python",
   "name": "python3"
  },
  "language_info": {
   "codemirror_mode": {
    "name": "ipython",
    "version": 3
   },
   "file_extension": ".py",
   "mimetype": "text/x-python",
   "name": "python",
   "nbconvert_exporter": "python",
   "pygments_lexer": "ipython3",
   "version": "3.6.4"
  }
 },
 "nbformat": 4,
 "nbformat_minor": 2
}
