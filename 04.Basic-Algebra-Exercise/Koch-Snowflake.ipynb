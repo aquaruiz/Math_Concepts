{
 "cells": [
  {
   "cell_type": "markdown",
   "metadata": {},
   "source": [
    "#### Koch snowflake"
   ]
  },
  {
   "cell_type": "code",
   "execution_count": 19,
   "metadata": {},
   "outputs": [],
   "source": [
    "# Draw a Koch snowflake\n",
    "from turtle import *\n",
    "\n",
    "def koch(a, order):\n",
    "    if order > 0:\n",
    "        for t in [60, -120, 60, 0]:\n",
    "            koch(a/3, order-1)\n",
    "            left(t)\n",
    "    else:\n",
    "        forward(a)\n",
    "\n",
    "# Choose colours and size\n",
    "color(\"sky blue\", \"white\")\n",
    "bgcolor(\"black\")\n",
    "size = 400\n",
    "order = 7\n",
    "\n",
    "# Ensure snowflake is centred\n",
    "penup()\n",
    "backward(size/1.732)\n",
    "left(30)\n",
    "pendown()\n",
    "\n",
    "# Make it fast\n",
    "tracer(100)\n",
    "hideturtle()\n",
    "\n",
    "begin_fill()\n",
    "\n",
    "# Three Koch curves\n",
    "for i in range(3):\n",
    "    koch(size, order)\n",
    "    right(120)\n",
    "\n",
    "end_fill()\n",
    "\n",
    "# Make the last parts appear\n",
    "update()\n"
   ]
  }
 ],
 "metadata": {
  "kernelspec": {
   "display_name": "Python 3",
   "language": "python",
   "name": "python3"
  },
  "language_info": {
   "codemirror_mode": {
    "name": "ipython",
    "version": 3
   },
   "file_extension": ".py",
   "mimetype": "text/x-python",
   "name": "python",
   "nbconvert_exporter": "python",
   "pygments_lexer": "ipython3",
   "version": "3.6.4"
  }
 },
 "nbformat": 4,
 "nbformat_minor": 2
}
